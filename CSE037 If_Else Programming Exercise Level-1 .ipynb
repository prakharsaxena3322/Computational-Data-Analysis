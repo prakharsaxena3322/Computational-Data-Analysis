{
 "cells": [
  {
   "cell_type": "markdown",
   "metadata": {},
   "source": [
    "Ques. 1"
   ]
  },
  {
   "cell_type": "code",
   "execution_count": 22,
   "metadata": {},
   "outputs": [
    {
     "name": "stdout",
     "output_type": "stream",
     "text": [
      "Enter Length: 45\n",
      "Enter Breadth: 45\n",
      "It is a square!\n"
     ]
    }
   ],
   "source": [
    "L=int(input(\"Enter Length: \"))\n",
    "B=int(input(\"Enter Breadth: \"))\n",
    "if L==B:\n",
    " print(\"It is a surely be a square!\")\n",
    "else:\n",
    " print(\"It may be any thing except square!\")"
   ]
  },
  {
   "cell_type": "markdown",
   "metadata": {},
   "source": [
    "Ques. 2"
   ]
  },
  {
   "cell_type": "code",
   "execution_count": 25,
   "metadata": {},
   "outputs": [
    {
     "name": "stdout",
     "output_type": "stream",
     "text": [
      "enter 1st value: 63\n",
      "enter 2nd value: 45\n",
      "The greatest no is:  63\n"
     ]
    }
   ],
   "source": [
    "num_1=int(input(\"enter  value: \"))\n",
    "num_2=int(input(\"enter  value: \"))\n",
    "if num_1>num_2:\n",
    "    print(\"The greatest no is: \",num_1)\n",
    "elif num_1<num_2:\n",
    "    print(\"The greatest no is: \", num_2)"
   ]
  },
  {
   "cell_type": "markdown",
   "metadata": {},
   "source": [
    "Ques. 3"
   ]
  },
  {
   "cell_type": "code",
   "execution_count": 32,
   "metadata": {},
   "outputs": [
    {
     "name": "stdout",
     "output_type": "stream",
     "text": [
      "Total Quatity: 16\n",
      "Total Cost:  1600\n",
      "Discount you can avail is: 160.0\n",
      "Final Amount =  1440.0\n"
     ]
    }
   ],
   "source": [
    "Quantity=int(input(\"Total Quatity: \"))\n",
    "cost=Quantity*100 \n",
    "print(\"Total Cost: \", cost)\n",
    "if cost>1000:\n",
    "    discount=cost*10/100\n",
    "    print(\"Discount you can avail is:\", discount)\n",
    "    Final=cost-discount\n",
    "    print(\"Final Amount = \",Final)\n",
    "else:\n",
    "    print(\"Final Amount= \",cost)"
   ]
  },
  {
   "cell_type": "markdown",
   "metadata": {},
   "source": [
    "Ques. 4"
   ]
  },
  {
   "cell_type": "code",
   "execution_count": 35,
   "metadata": {},
   "outputs": [
    {
     "name": "stdout",
     "output_type": "stream",
     "text": [
      "Enter Your Salary; 600000\n",
      "Enter Your Service year: 10\n",
      "Net Bonus Amount:  30000.0\n",
      "Total Salary 630000.0\n"
     ]
    }
   ],
   "source": [
    "salary=int(input(\"Enter Your Salary; \"))\n",
    "service= int(input(\"Enter Your Service year: \")) \n",
    "if service>5:\n",
    "    bonus=salary*5/100\n",
    "    print(\"Net Bonus Amount: \",bonus)\n",
    "    total= bonus+salary\n",
    "    print(\"Total Salary\",total)\n",
    "else:\n",
    "    print(\"Net Bonus Amount= null\")"
   ]
  },
  {
   "cell_type": "markdown",
   "metadata": {},
   "source": [
    "Ques. 5"
   ]
  },
  {
   "cell_type": "code",
   "execution_count": 42,
   "metadata": {},
   "outputs": [
    {
     "name": "stdout",
     "output_type": "stream",
     "text": [
      "Enter Marks94\n",
      "Grade = A\n"
     ]
    }
   ],
   "source": [
    "marks=int(input(\"Enter Marks =\"))\n",
    "if marks<25:\n",
    "    print(\" Grade = F\")\n",
    "if 25<marks<45:\n",
    "    print(\"Grade = E\")\n",
    "if 45<marks<50:\n",
    "    print(\"Grade = D\")\n",
    "if 50<marks<60:\n",
    "    print(\"Grade = C\")\n",
    "if 60<marks<80:\n",
    "    print(\"Grade = B\")\n",
    "if marks>80:\n",
    "    print(\"Grade = A\")"
   ]
  },
  {
   "cell_type": "markdown",
   "metadata": {},
   "source": [
    "Ques.6"
   ]
  },
  {
   "cell_type": "code",
   "execution_count": 5,
   "metadata": {},
   "outputs": [
    {
     "name": "stdout",
     "output_type": "stream",
     "text": [
      "Enter age A = 45\n",
      "Enter age B = 84\n",
      "Enter age C = 64\n",
      "B Is oldest and A is youngest\n"
     ]
    }
   ],
   "source": [
    "a=int(input(\"Enter age A = \"))\n",
    "b=int(input(\"Enter age B = \"))\n",
    "c=int(input(\"Enter age C = \"))\n",
    "if (a>b and a>c):\n",
    "    if b>c:\n",
    "        print(\"A is oldest and C is youngest\")\n",
    "    else:\n",
    "        print(\"A is oldest and B is youngest\")\n",
    "elif (b>a and b>c):\n",
    "    if a>c:\n",
    "        print(\"B is oldest and C is  youngest\")\n",
    "    else:\n",
    "        print(\"B Is oldest and A is youngest\")\n",
    "elif (c>a and c>b):\n",
    "    if a>b:\n",
    "        print(\"C is Oldest and B is youngest\")\n",
    "    else:\n",
    "        print(\"C is oldest and A is youngest\")"
   ]
  },
  {
   "cell_type": "markdown",
   "metadata": {},
   "source": [
    "Ques. 7"
   ]
  },
  {
   "cell_type": "code",
   "execution_count": 44,
   "metadata": {},
   "outputs": [
    {
     "name": "stdout",
     "output_type": "stream",
     "text": [
      "Enter value =-1456\n",
      "Absolute value = 1456\n"
     ]
    }
   ],
   "source": [
    "no=int(input(\"Enter value =\"))\n",
    "p=(abs(no)) \n",
    "print(\"Absolute value =\", p)"
   ]
  },
  {
   "cell_type": "markdown",
   "metadata": {},
   "source": [
    "Ques. 8"
   ]
  },
  {
   "cell_type": "code",
   "execution_count": 1,
   "metadata": {},
   "outputs": [
    {
     "name": "stdout",
     "output_type": "stream",
     "text": [
      "Number of classes Held= 100\n",
      "Number of classes attended= 89\n",
      "Attend Perc. =  89.0\n",
      "Allowed to sit in examination\n"
     ]
    }
   ],
   "source": [
    "held=int(input(\"Number of classes Held= \"))\n",
    "attend=int(input(\"Number of classes attended= \"))\n",
    "attendclass=100*attend/held\n",
    "print(\"Attend Perc. = \",attendclass)\n",
    "if attendclass<75:\n",
    "    print(\"Not allowed to sit in examination\")\n",
    "else:\n",
    "    print(\"Allowed to sit in examination\")"
   ]
  },
  {
   "cell_type": "code",
   "execution_count": null,
   "metadata": {},
   "outputs": [],
   "source": []
  },
  {
   "cell_type": "code",
   "execution_count": 8,
   "metadata": {},
   "outputs": [
    {
     "name": "stdout",
     "output_type": "stream",
     "text": [
      "Number of class held= 100\n",
      "Number of classes Attended= 90\n",
      "Attend percentage=  90.0\n",
      "You are allowed to sit in examination\n"
     ]
    }
   ],
   "source": [
    "clsheld=int(input(\"Number of class held= \"))\n",
    "clsattend=int(input(\"Number of classes Attended= \"))\n",
    "v=100*clsattend/clsheld\n",
    "print(\"Attend percentage= \",v)\n",
    "if v<75:\n",
    "    medical=str(input(\"If u have medical cause(Y/N) = \"))\n",
    "    if medical==\"Y\":\n",
    "        print(\"You are allowed to sit in examination\")\n",
    "    else:\n",
    "        print(\"You are not allowed to sit in examination\")\n",
    "else:\n",
    "    print(\"You are allowed to sit in examination\")"
   ]
  },
  {
   "cell_type": "code",
   "execution_count": null,
   "metadata": {},
   "outputs": [],
   "source": []
  }
 ],
 "metadata": {
  "kernelspec": {
   "display_name": "Python 3",
   "language": "python",
   "name": "python3"
  },
  "language_info": {
   "codemirror_mode": {
    "name": "ipython",
    "version": 3
   },
   "file_extension": ".py",
   "mimetype": "text/x-python",
   "name": "python",
   "nbconvert_exporter": "python",
   "pygments_lexer": "ipython3",
   "version": "3.7.3"
  }
 },
 "nbformat": 4,
 "nbformat_minor": 2
}
