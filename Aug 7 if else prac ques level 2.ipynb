{
 "cells": [
  {
   "cell_type": "code",
   "execution_count": 1,
   "metadata": {},
   "outputs": [
    {
     "name": "stdout",
     "output_type": "stream",
     "text": [
      "Enter year: 2019\n",
      "It is not a leap year\n"
     ]
    }
   ],
   "source": [
    "year = input(\"Enter year: \")\n",
    "if (int(year)%4)==0:\n",
    "    if (int(year)%4)==0:\n",
    "        print(\"It is a leap year\")\n",
    "    else:\n",
    "        print(\"It is not a leap year\")\n",
    "else:\n",
    "    print(\"It is not a leap year\")"
   ]
  },
  {
   "cell_type": "code",
   "execution_count": 4,
   "metadata": {},
   "outputs": [
    {
     "name": "stdout",
     "output_type": "stream",
     "text": [
      "Enter age: 34\n",
      "Enter sex 'F' or 'M': M\n",
      "Enter marital status 'Y' or 'N': Y\n",
      "Employee may work anywhere\n"
     ]
    }
   ],
   "source": [
    "age = input(\"Enter age: \")\n",
    "sex = input(\"Enter sex 'F' or 'M': \")\n",
    "mar_status = input(\"Enter marital status 'Y' or 'N': \")\n",
    "if (str(sex)=='F'):\n",
    "    print(\"Employee will work only in urban areas\")\n",
    "elif (str(sex)=='M') and (int(age)>=20) and (int(age)<40):\n",
    "    print(\"Employee may work anywhere\")\n",
    "elif (str(sex)=='M') and (int(age)>=40) and (int(age)<60):\n",
    "    print(\"Employee will work in urban areas only\")\n",
    "else:\n",
    "    print(\"ERROR!\")"
   ]
  },
  {
   "cell_type": "code",
   "execution_count": 6,
   "metadata": {},
   "outputs": [
    {
     "name": "stdout",
     "output_type": "stream",
     "text": [
      "Enter a number: 3456\n",
      "Reversed number:  6543\n"
     ]
    }
   ],
   "source": [
    "number = input(\"Enter a number: \")\n",
    "num1 = int(number)/1000\n",
    "rem = int(number)%1000\n",
    "num2 = int(rem)/100\n",
    "rem = int(rem)%100\n",
    "num3 = int(rem)/10\n",
    "num4 = int(rem)%10\n",
    "new_num = (int(num4)*1000) + (int(num3)*100) + (int(num2)*10) + (int(num1))\n",
    "print(\"Reversed number: \", new_num)\n",
    "    "
   ]
  },
  {
   "cell_type": "code",
   "execution_count": null,
   "metadata": {},
   "outputs": [],
   "source": []
  }
 ],
 "metadata": {
  "kernelspec": {
   "display_name": "Python 3",
   "language": "python",
   "name": "python3"
  },
  "language_info": {
   "codemirror_mode": {
    "name": "ipython",
    "version": 3
   },
   "file_extension": ".py",
   "mimetype": "text/x-python",
   "name": "python",
   "nbconvert_exporter": "python",
   "pygments_lexer": "ipython3",
   "version": "3.7.3"
  }
 },
 "nbformat": 4,
 "nbformat_minor": 2
}
